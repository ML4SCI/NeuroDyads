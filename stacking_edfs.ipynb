{
 "cells": [
  {
   "cell_type": "code",
   "execution_count": 27,
   "id": "939a0543-4d27-439d-8927-7bdcad98a1a0",
   "metadata": {},
   "outputs": [],
   "source": [
    "import mne\n",
    "import numpy as np\n",
    "from mne.io import concatenate_raws\n",
    "\n",
    "def stack_edf_files_mne_only(file1_path, file2_path, output_path):\n",
    "    \"\"\"\n",
    "    Stack two EDF files together using only MNE-Python.\n",
    "    \n",
    "    Parameters:\n",
    "    - file1_path: Path to the first EDF file\n",
    "    - file2_path: Path to the second EDF file\n",
    "    - output_path: Path where the stacked EDF file will be saved\n",
    "    \n",
    "    Requirements:\n",
    "    - mne (install with: pip install mne)\n",
    "    \n",
    "    Note: Both EDF files must have:\n",
    "    1. The same number of channels\n",
    "    2. The same channel names in the same order\n",
    "    3. The same sample rates\n",
    "    \"\"\"\n",
    "    \n",
    "    # Read both files using MNE\n",
    "    raw1 = mne.io.read_raw_edf(file1_path, preload=True)\n",
    "    raw2 = mne.io.read_raw_edf(file2_path, preload=True)\n",
    "    \n",
    "    # Validate files can be concatenated\n",
    "    if raw1.info['ch_names'] != raw2.info['ch_names']:\n",
    "        raise ValueError(\"EDF files have different channel names or order\")\n",
    "    \n",
    "    if raw1.info['sfreq'] != raw2.info['sfreq']:\n",
    "        raise ValueError(\"EDF files have different sampling frequencies\")\n",
    "    \n",
    "    # Concatenate the raw objects\n",
    "    raw_concat = concatenate_raws([raw1, raw2])\n",
    "    \n",
    "    # Save as EDF file using MNE's writer\n",
    "    try:\n",
    "        raw_concat.export(output_path, fmt='edf', overwrite=True)\n",
    "        print(f\"Successfully stacked EDF files and saved to {output_path}\")\n",
    "    except Exception as e:\n",
    "        raise RuntimeError(f\"Error writing EDF file: {str(e)}\")"
   ]
  },
  {
   "cell_type": "code",
   "execution_count": 33,
   "id": "5b72a303-3da0-4f0f-975c-df015831e107",
   "metadata": {},
   "outputs": [
    {
     "name": "stdout",
     "output_type": "stream",
     "text": [
      "Extracting EDF parameters from C:\\Users\\mariy\\Desktop\\gsoc2025\\preprocessed_eeg\\nt35_speak_cut_preprocessed.edf...\n",
      "EDF file detected\n",
      "Setting channel info structure...\n",
      "Creating raw.info structure...\n",
      "Reading 0 ... 36249  =      0.000 ...   144.996 secs...\n",
      "Extracting EDF parameters from C:\\Users\\mariy\\Desktop\\gsoc2025\\preprocessed_eeg\\nt35_listen_cut_preprocessed.edf...\n",
      "EDF file detected\n",
      "Setting channel info structure...\n",
      "Creating raw.info structure...\n",
      "Reading 0 ... 38249  =      0.000 ...   152.996 secs...\n",
      "Successfully stacked EDF files and saved to preprocessed_eeg/nt35_cut_speak_listen_stacked.edf\n"
     ]
    }
   ],
   "source": [
    "stack_edf_files_mne_only('preprocessed_eeg/nt35_speak_cut_preprocessed.edf', 'preprocessed_eeg/nt35_listen_cut_preprocessed.edf', 'preprocessed_eeg/nt35_cut_speak_listen_stacked.edf')"
   ]
  },
  {
   "cell_type": "code",
   "execution_count": null,
   "id": "65168af9-448f-4466-8f4c-c8fc766331e8",
   "metadata": {},
   "outputs": [],
   "source": [
    "# done \n",
    "#nt9 speak listen zeropad \n",
    "#nt9 speak listen cut \n",
    "\n",
    "#nt10 listen speak zeropad \n",
    "#nt10 listen speak cut "
   ]
  }
 ],
 "metadata": {
  "kernelspec": {
   "display_name": "Python [conda env:base] *",
   "language": "python",
   "name": "conda-base-py"
  },
  "language_info": {
   "codemirror_mode": {
    "name": "ipython",
    "version": 3
   },
   "file_extension": ".py",
   "mimetype": "text/x-python",
   "name": "python",
   "nbconvert_exporter": "python",
   "pygments_lexer": "ipython3",
   "version": "3.12.4"
  }
 },
 "nbformat": 4,
 "nbformat_minor": 5
}
